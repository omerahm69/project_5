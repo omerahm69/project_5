{
 "cells": [
  {
   "cell_type": "markdown",
   "metadata": {},
   "source": [
    "Data Visualization \n",
    "Objectives \n",
    "\n",
    "Inputs\n",
    "\n",
    "Outputs\n",
    "\n"
   ]
  },
  {
   "cell_type": "code",
   "execution_count": 68,
   "metadata": {},
   "outputs": [],
   "source": [
    "import PIL\n",
    "import os\n",
    "import pandas as pd\n",
    "import numpy as np\n",
    "import matplotlib.pyplot as plt\n",
    "import seaborn as sns\n",
    "import joblib\n",
    "sns.set_style(\"white\")\n",
    "from matplotlib.image import imread\n"
   ]
  },
  {
   "cell_type": "code",
   "execution_count": 43,
   "metadata": {},
   "outputs": [],
   "source": [
    "cwd=os.getcwd()"
   ]
  },
  {
   "cell_type": "code",
   "execution_count": 44,
   "metadata": {},
   "outputs": [
    {
     "data": {
      "text/plain": [
       "'c:\\\\python_projects\\\\project_5\\\\jupyter_notebooks'"
      ]
     },
     "execution_count": 44,
     "metadata": {},
     "output_type": "execute_result"
    }
   ],
   "source": [
    "\n",
    "current_dir = os.getcwd()\n",
    "current_dir"
   ]
  },
  {
   "cell_type": "code",
   "execution_count": 45,
   "metadata": {},
   "outputs": [
    {
     "data": {
      "text/plain": [
       "'c:\\\\python_projects\\\\project_5\\\\jupyter_notebooks'"
      ]
     },
     "execution_count": 45,
     "metadata": {},
     "output_type": "execute_result"
    }
   ],
   "source": [
    "work_dir=os.getcwd()\n",
    "work_dir"
   ]
  },
  {
   "cell_type": "markdown",
   "metadata": {},
   "source": [
    "Set inputs directories\n",
    "Set tran,validation and test path"
   ]
  },
  {
   "cell_type": "code",
   "execution_count": 65,
   "metadata": {},
   "outputs": [],
   "source": [
    "my_data_dir='inputs/cherry-leaves_dataset/cherry-leaves'\n",
    "train_path=my_data_dir +'/ train'\n",
    "validation_path=my_data_dir + '/validation_set_ratio'\n",
    "test_path=my_data_dir + '/test'"
   ]
  },
  {
   "cell_type": "code",
   "execution_count": 47,
   "metadata": {},
   "outputs": [
    {
     "name": "stdout",
     "output_type": "stream",
     "text": [
      " Volume in drive C is OS\n",
      " Volume Serial Number is 38F8-7545\n",
      "\n",
      " Directory of c:\\python_projects\\project_5\\jupyter_notebooks\n",
      "\n"
     ]
    },
    {
     "name": "stderr",
     "output_type": "stream",
     "text": [
      "File Not Found\n"
     ]
    }
   ],
   "source": [
    "!dir Cherry-leaves"
   ]
  },
  {
   "cell_type": "code",
   "execution_count": 56,
   "metadata": {},
   "outputs": [
    {
     "data": {
      "text/plain": [
       "['healthy', 'powdery_mildew', 'test', 'train', 'validation']"
      ]
     },
     "execution_count": 56,
     "metadata": {},
     "output_type": "execute_result"
    }
   ],
   "source": [
    "import os\n",
    "my_data_dir = r'c:\\\\python_projects\\\\project_5\\\\inputs\\\\cherry-leaves_dataset\\\\cherry-leaves'\n",
    "labels = os.listdir(my_data_dir)\n",
    "labels"
   ]
  },
  {
   "cell_type": "code",
   "execution_count": 60,
   "metadata": {},
   "outputs": [
    {
     "name": "stdout",
     "output_type": "stream",
     "text": [
      "             Set           Label Frequency\n",
      "0  Cherry-leaves         healthy      2104\n",
      "1  Cherry-leaves  powdery_mildew      2104\n",
      "2  Cherry-leaves            test         2\n",
      "3  Cherry-leaves           train         2\n",
      "4  Cherry-leaves      validation         2\n"
     ]
    }
   ],
   "source": [
    "my_data_dir = r'c:\\\\python_projects\\\\project_5\\\\inputs\\\\cherry-leaves_dataset\\\\cherry-leaves'\n",
    "labels = os.listdir(my_data_dir)\n",
    "\n",
    "# Build data as a list of Series\n",
    "rows = []\n",
    "\n",
    "for label in labels:\n",
    "    path = os.path.join(my_data_dir, label)\n",
    "    if os.path.isdir(path):  # just to be safe\n",
    "        count = len(os.listdir(path))\n",
    "        row = pd.Series({'Set': 'Cherry-leaves', 'Label': label, 'Frequency': count})\n",
    "        rows.append(row)\n",
    "\n",
    "# Concatenate into a DataFrame\n",
    "df_freq = pd.concat(rows, axis=1).T.reset_index(drop=True)\n",
    "\n",
    "print(df_freq)"
   ]
  },
  {
   "cell_type": "code",
   "execution_count": 61,
   "metadata": {},
   "outputs": [
    {
     "name": "stdout",
     "output_type": "stream",
     "text": [
      "\n",
      "\n"
     ]
    },
    {
     "data": {
      "image/png": "[encoded data removed]",
      "text/plain": [
       "<Figure size 800x500 with 1 Axes>"
      ]
     },
     "metadata": {},
     "output_type": "display_data"
    }
   ],
   "source": [
    "print(\"\\n\")\n",
    "sns.set_style(\"whitegrid\")\n",
    "plt.figure(figsize=(8,5))\n",
    "sns.barplot(data=df_freq, x='Set', y='Frequency', hue='Label')\n",
    "plt.show()"
   ]
  },
  {
   "cell_type": "code",
   "execution_count": 72,
   "metadata": {},
   "outputs": [],
   "source": [
    "import itertools\n",
    "import random\n",
    "from matplotlib.image import imread\n",
    "\n",
    "def image_montage(dir_path, label_to_display, nrows, ncols, figsize=(15,10)):\n",
    "  \"\"\"\n",
    "  logic\n",
    "  - if a label exists in the folder\n",
    "  - check if your montage space is greater than nsubset size\n",
    "  - create a list of axes indices based on nrows and ncols\n",
    "  - create a Figure and display images\n",
    "  - in this loop, load the image and plot the given image\n",
    "\n",
    "  \"\"\"\n",
    "  sns.set_style(\"white\")\n",
    "\n",
    "  labels = os.listdir(train_path)\n",
    "\n",
    "  # subset the class you are interested in displaying\n",
    "  if label_to_display in labels:\n",
    "\n",
    "    # checks if your montage space is greater than subset size\n",
    "    images_list = os.listdir(dir_path+'/'+ label_to_display)\n",
    "    if nrows * ncols < len(images_list):\n",
    "      img_idx = random.sample(images_list, nrows * ncols)\n",
    "    else:\n",
    "      print(\n",
    "        f\"Decrease nrows or ncols to create your montage. \\n\"\n",
    "        f\"There are {len(images_list)} in your subset. \"\n",
    "          f\"You requested a montage with {nrows * ncols} spaces\")\n",
    "      return\n",
    "    \n",
    "\n",
    "    # create a list of axes indices based on nrows and ncols\n",
    "    list_rows= range(0,nrows)\n",
    "    list_cols= range(0,ncols)\n",
    "    plot_idx = list(itertools.product(list_rows,list_cols))\n",
    "\n",
    "\n",
    "    # create a Figure and display images\n",
    "    fig, axes = plt.subplots(nrows=nrows,ncols=ncols, figsize=figsize)\n",
    "    for x in range(0,nrows*ncols):\n",
    "        img = imread(dir_path + '/' + label_to_display + '/' + img_idx[x], 0)\n",
    "        img_shape = img.shape\n",
    "        axes[plot_idx[x][0], plot_idx[x][1]].imshow(img)\n",
    "        axes[plot_idx[x][0], plot_idx[x][1]].set_title(f\"Width {img_shape[1]}px x Height {img_shape[0]}px\")\n",
    "        axes[plot_idx[x][0], plot_idx[x][1]].set_xticks([])\n",
    "        axes[plot_idx[x][0], plot_idx[x][1]].set_yticks([])\n",
    "    plt.tight_layout()\n",
    "    plt.show()\n",
    "\n",
    "\n",
    "  else:\n",
    "    print(\"The label you selected doesn't exist.\")\n",
    "    print(f\"The existing options are: {labels}\")"
   ]
  },
  {
   "cell_type": "code",
   "execution_count": 69,
   "metadata": {},
   "outputs": [
    {
     "name": "stdout",
     "output_type": "stream",
     "text": [
      "inputs/cherry-leaves_dataset/cherry-leaves/ train\n"
     ]
    }
   ],
   "source": [
    "print(train_path)"
   ]
  },
  {
   "cell_type": "code",
   "execution_count": 73,
   "metadata": {},
   "outputs": [
    {
     "name": "stderr",
     "output_type": "stream",
     "text": [
      "C:\\Users\\omer\\AppData\\Local\\Temp\\ipykernel_19964\\4209317920.py:25: RuntimeWarning: Mean of empty slice.\n",
      "  dim1_mean = int(np.array(dim1).mean())\n",
      "C:\\Users\\omer\\AppData\\Local\\Packages\\PythonSoftwareFoundation.Python.3.12_qbz5n2kfra8p0\\LocalCache\\local-packages\\Python312\\site-packages\\numpy\\_core\\_methods.py:147: RuntimeWarning: invalid value encountered in scalar divide\n",
      "  ret = ret.dtype.type(ret / rcount)\n"
     ]
    },
    {
     "ename": "ValueError",
     "evalue": "cannot convert float NaN to integer",
     "output_type": "error",
     "traceback": [
      "\u001b[31m---------------------------------------------------------------------------\u001b[39m",
      "\u001b[31mValueError\u001b[39m                                Traceback (most recent call last)",
      "\u001b[36mCell\u001b[39m\u001b[36m \u001b[39m\u001b[32mIn[73]\u001b[39m\u001b[32m, line 25\u001b[39m\n\u001b[32m     23\u001b[39m axes.set_xlabel(\u001b[33m\"\u001b[39m\u001b[33mWidth (pixels)\u001b[39m\u001b[33m\"\u001b[39m)\n\u001b[32m     24\u001b[39m axes.set_ylabel(\u001b[33m\"\u001b[39m\u001b[33mHeight (pixels)\u001b[39m\u001b[33m\"\u001b[39m)\n\u001b[32m---> \u001b[39m\u001b[32m25\u001b[39m dim1_mean = \u001b[38;5;28;43mint\u001b[39;49m\u001b[43m(\u001b[49m\u001b[43mnp\u001b[49m\u001b[43m.\u001b[49m\u001b[43marray\u001b[49m\u001b[43m(\u001b[49m\u001b[43mdim1\u001b[49m\u001b[43m)\u001b[49m\u001b[43m.\u001b[49m\u001b[43mmean\u001b[49m\u001b[43m(\u001b[49m\u001b[43m)\u001b[49m\u001b[43m)\u001b[49m\n\u001b[32m     26\u001b[39m dim2_mean = \u001b[38;5;28mint\u001b[39m(np.array(dim2).mean())\n\u001b[32m     27\u001b[39m axes.axvline(x=dim2_mean, color=\u001b[33m'\u001b[39m\u001b[33mr\u001b[39m\u001b[33m'\u001b[39m, linestyle=\u001b[33m'\u001b[39m\u001b[33m--\u001b[39m\u001b[33m'\u001b[39m)\n",
      "\u001b[31mValueError\u001b[39m: cannot convert float NaN to integer"
     ]
    },
    {
     "data": {
      "image/png": "[encoded data removed]",
      "text/plain": [
       "<Figure size 640x480 with 1 Axes>"
      ]
     },
     "metadata": {},
     "output_type": "display_data"
    }
   ],
   "source": [
    "\n",
    "train_path = 'inputs/cherry-leaves_dataset/cherry-leaves/train'\n",
    "\n",
    "\n",
    "dim1, dim2 = [], []\n",
    "\n",
    "for label in labels:\n",
    "    label_path = os.path.join(train_path, label)\n",
    "    if not os.path.isdir(label_path):\n",
    "        continue  # skip anything weird\n",
    "    for image_filename in os.listdir(label_path):\n",
    "        image_path = os.path.join(label_path, image_filename)\n",
    "        try:\n",
    "            img = imread(image_path)\n",
    "            d1, d2, colors = img.shape\n",
    "            dim1.append(d1)  # height\n",
    "            dim2.append(d2)  # width\n",
    "        except Exception as e:\n",
    "            print(f\"Skipping {image_path}: {e}\")\n",
    "\n",
    "sns.set_style(\"whitegrid\")\n",
    "fig, axes = plt.subplots()\n",
    "sns.scatterplot(x=dim2, y=dim1, alpha=0.2)\n",
    "axes.set_xlabel(\"Width (pixels)\")\n",
    "axes.set_ylabel(\"Height (pixels)\")\n",
    "dim1_mean = int(np.array(dim1).mean())\n",
    "dim2_mean = int(np.array(dim2).mean())\n",
    "axes.axvline(x=dim2_mean, color='r', linestyle='--')\n",
    "axes.axhline(y=dim1_mean, color='r', linestyle='--')\n",
    "plt.show()\n",
    "\n",
    "print(f\"Width average: {dim2_mean} \\nHeight average: {dim1_mean}\")"
   ]
  },
  {
   "cell_type": "code",
   "execution_count": null,
   "metadata": {},
   "outputs": [],
   "source": []
  },
  {
   "cell_type": "code",
   "execution_count": null,
   "metadata": {},
   "outputs": [
    {
     "name": "stdout",
     "output_type": "stream",
     "text": [
      "49\n",
      "63\n",
      "47\n"
     ]
    }
   ],
   "source": [
    "image_count1 = len(list(train_path))\n",
    "image_count2 = len(list(validation_path))\n",
    "image_count3 = len(list(test_path))\n",
    "print(image_count1)\n",
    "print(image_count2)\n",
    "print(image_count3)\n",
    "\n"
   ]
  },
  {
   "cell_type": "markdown",
   "metadata": {},
   "source": [
    "Set output directory"
   ]
  },
  {
   "cell_type": "code",
   "execution_count": null,
   "metadata": {},
   "outputs": [],
   "source": [
    "version='v1'\n",
    "file_path=f'outputs/{version}'\n",
    "if 'outputs' in os.listdir(work_dir) and version in os.listdir(work_dir + '/outputs'):\n",
    "    print('Old version is already available create a new version.')\n",
    "    pass\n",
    "else:\n",
    "    os.makedirs(name=file_path)"
   ]
  },
  {
   "cell_type": "markdown",
   "metadata": {},
   "source": [
    "Set label names"
   ]
  },
  {
   "cell_type": "code",
   "execution_count": null,
   "metadata": {},
   "outputs": [],
   "source": [
    "labels=os.listdir(train_path)\n",
    "print('Label for the images are', labels)\n"
   ]
  }
 ],
 "metadata": {
  "kernelspec": {
   "display_name": "Python 3",
   "language": "python",
   "name": "python3"
  },
  "language_info": {
   "codemirror_mode": {
    "name": "ipython",
    "version": 3
   },
   "file_extension": ".py",
   "mimetype": "text/x-python",
   "name": "python",
   "nbconvert_exporter": "python",
   "pygments_lexer": "ipython3",
   "version": "3.12.9"
  }
 },
 "nbformat": 4,
 "nbformat_minor": 2
}
